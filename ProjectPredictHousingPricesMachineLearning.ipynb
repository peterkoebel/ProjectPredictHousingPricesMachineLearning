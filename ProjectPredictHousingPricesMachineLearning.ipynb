{
 "cells": [
  {
   "cell_type": "markdown",
   "metadata": {},
   "source": [
    "##Project Predicting Housing Prices using Machine Learning"
   ]
  },
  {
   "cell_type": "code",
   "execution_count": 28,
   "metadata": {
    "collapsed": true
   },
   "outputs": [],
   "source": [
    "import pandas as pd\n",
    "import numpy as np\n",
    "import seaborn as sns\n",
    "import requests\n",
    "\n",
    "from io import StringIO\n",
    "from matplotlib import pyplot as plt\n",
    "from sklearn.linear_model import LinearRegression , Ridge\n",
    "from sklearn.ensemble import RandomForestRegressor\n",
    "from sklearn.model_selection import cross_val_score , train_test_split\n",
    "\n",
    "%matplotlib inline"
   ]
  },
  {
   "cell_type": "markdown",
   "metadata": {},
   "source": [
    "#Importing the data set.\n",
    "#It can be found here https://www.kaggle.com/c/house-prices-advanced-regression-techniques/data."
   ]
  },
  {
   "cell_type": "code",
   "execution_count": 14,
   "metadata": {
    "collapsed": true
   },
   "outputs": [],
   "source": [
    "url='https://raw.githubusercontent.com/peterkoebel/ProjectPredictHousingPricesMachineLearning/master/train.csv'\n",
    "s=requests.get(url).text\n",
    "data = pd.read_csv(StringIO(s))"
   ]
  },
  {
   "cell_type": "markdown",
   "metadata": {},
   "source": [
    "#Looking over the data."
   ]
  },
  {
   "cell_type": "code",
   "execution_count": 15,
   "metadata": {},
   "outputs": [
    {
     "name": "stdout",
     "output_type": "stream",
     "text": [
      "<class 'pandas.core.frame.DataFrame'>\n",
      "RangeIndex: 1460 entries, 0 to 1459\n",
      "Data columns (total 81 columns):\n",
      "Id               1460 non-null int64\n",
      "MSSubClass       1460 non-null int64\n",
      "MSZoning         1460 non-null object\n",
      "LotFrontage      1201 non-null float64\n",
      "LotArea          1460 non-null int64\n",
      "Street           1460 non-null object\n",
      "Alley            91 non-null object\n",
      "LotShape         1460 non-null object\n",
      "LandContour      1460 non-null object\n",
      "Utilities        1460 non-null object\n",
      "LotConfig        1460 non-null object\n",
      "LandSlope        1460 non-null object\n",
      "Neighborhood     1460 non-null object\n",
      "Condition1       1460 non-null object\n",
      "Condition2       1460 non-null object\n",
      "BldgType         1460 non-null object\n",
      "HouseStyle       1460 non-null object\n",
      "OverallQual      1460 non-null int64\n",
      "OverallCond      1460 non-null int64\n",
      "YearBuilt        1460 non-null int64\n",
      "YearRemodAdd     1460 non-null int64\n",
      "RoofStyle        1460 non-null object\n",
      "RoofMatl         1460 non-null object\n",
      "Exterior1st      1460 non-null object\n",
      "Exterior2nd      1460 non-null object\n",
      "MasVnrType       1452 non-null object\n",
      "MasVnrArea       1452 non-null float64\n",
      "ExterQual        1460 non-null object\n",
      "ExterCond        1460 non-null object\n",
      "Foundation       1460 non-null object\n",
      "BsmtQual         1423 non-null object\n",
      "BsmtCond         1423 non-null object\n",
      "BsmtExposure     1422 non-null object\n",
      "BsmtFinType1     1423 non-null object\n",
      "BsmtFinSF1       1460 non-null int64\n",
      "BsmtFinType2     1422 non-null object\n",
      "BsmtFinSF2       1460 non-null int64\n",
      "BsmtUnfSF        1460 non-null int64\n",
      "TotalBsmtSF      1460 non-null int64\n",
      "Heating          1460 non-null object\n",
      "HeatingQC        1460 non-null object\n",
      "CentralAir       1460 non-null object\n",
      "Electrical       1459 non-null object\n",
      "1stFlrSF         1460 non-null int64\n",
      "2ndFlrSF         1460 non-null int64\n",
      "LowQualFinSF     1460 non-null int64\n",
      "GrLivArea        1460 non-null int64\n",
      "BsmtFullBath     1460 non-null int64\n",
      "BsmtHalfBath     1460 non-null int64\n",
      "FullBath         1460 non-null int64\n",
      "HalfBath         1460 non-null int64\n",
      "BedroomAbvGr     1460 non-null int64\n",
      "KitchenAbvGr     1460 non-null int64\n",
      "KitchenQual      1460 non-null object\n",
      "TotRmsAbvGrd     1460 non-null int64\n",
      "Functional       1460 non-null object\n",
      "Fireplaces       1460 non-null int64\n",
      "FireplaceQu      770 non-null object\n",
      "GarageType       1379 non-null object\n",
      "GarageYrBlt      1379 non-null float64\n",
      "GarageFinish     1379 non-null object\n",
      "GarageCars       1460 non-null int64\n",
      "GarageArea       1460 non-null int64\n",
      "GarageQual       1379 non-null object\n",
      "GarageCond       1379 non-null object\n",
      "PavedDrive       1460 non-null object\n",
      "WoodDeckSF       1460 non-null int64\n",
      "OpenPorchSF      1460 non-null int64\n",
      "EnclosedPorch    1460 non-null int64\n",
      "3SsnPorch        1460 non-null int64\n",
      "ScreenPorch      1460 non-null int64\n",
      "PoolArea         1460 non-null int64\n",
      "PoolQC           7 non-null object\n",
      "Fence            281 non-null object\n",
      "MiscFeature      54 non-null object\n",
      "MiscVal          1460 non-null int64\n",
      "MoSold           1460 non-null int64\n",
      "YrSold           1460 non-null int64\n",
      "SaleType         1460 non-null object\n",
      "SaleCondition    1460 non-null object\n",
      "SalePrice        1460 non-null int64\n",
      "dtypes: float64(3), int64(35), object(43)\n",
      "memory usage: 924.0+ KB\n"
     ]
    }
   ],
   "source": [
    "data.info()"
   ]
  },
  {
   "cell_type": "markdown",
   "metadata": {},
   "source": [
    "#A couple of the columns are missing a significant amount of data. So we will remove those columns."
   ]
  },
  {
   "cell_type": "code",
   "execution_count": 16,
   "metadata": {
    "collapsed": true
   },
   "outputs": [],
   "source": [
    "data = data.drop(['Alley', 'FireplaceQu', 'PoolQC', 'Fence', 'MiscFeature'], axis=1)"
   ]
  },
  {
   "cell_type": "markdown",
   "metadata": {},
   "source": [
    "#Let us review the new data set."
   ]
  },
  {
   "cell_type": "code",
   "execution_count": 17,
   "metadata": {},
   "outputs": [
    {
     "name": "stdout",
     "output_type": "stream",
     "text": [
      "<class 'pandas.core.frame.DataFrame'>\n",
      "RangeIndex: 1460 entries, 0 to 1459\n",
      "Data columns (total 76 columns):\n",
      "Id               1460 non-null int64\n",
      "MSSubClass       1460 non-null int64\n",
      "MSZoning         1460 non-null object\n",
      "LotFrontage      1201 non-null float64\n",
      "LotArea          1460 non-null int64\n",
      "Street           1460 non-null object\n",
      "LotShape         1460 non-null object\n",
      "LandContour      1460 non-null object\n",
      "Utilities        1460 non-null object\n",
      "LotConfig        1460 non-null object\n",
      "LandSlope        1460 non-null object\n",
      "Neighborhood     1460 non-null object\n",
      "Condition1       1460 non-null object\n",
      "Condition2       1460 non-null object\n",
      "BldgType         1460 non-null object\n",
      "HouseStyle       1460 non-null object\n",
      "OverallQual      1460 non-null int64\n",
      "OverallCond      1460 non-null int64\n",
      "YearBuilt        1460 non-null int64\n",
      "YearRemodAdd     1460 non-null int64\n",
      "RoofStyle        1460 non-null object\n",
      "RoofMatl         1460 non-null object\n",
      "Exterior1st      1460 non-null object\n",
      "Exterior2nd      1460 non-null object\n",
      "MasVnrType       1452 non-null object\n",
      "MasVnrArea       1452 non-null float64\n",
      "ExterQual        1460 non-null object\n",
      "ExterCond        1460 non-null object\n",
      "Foundation       1460 non-null object\n",
      "BsmtQual         1423 non-null object\n",
      "BsmtCond         1423 non-null object\n",
      "BsmtExposure     1422 non-null object\n",
      "BsmtFinType1     1423 non-null object\n",
      "BsmtFinSF1       1460 non-null int64\n",
      "BsmtFinType2     1422 non-null object\n",
      "BsmtFinSF2       1460 non-null int64\n",
      "BsmtUnfSF        1460 non-null int64\n",
      "TotalBsmtSF      1460 non-null int64\n",
      "Heating          1460 non-null object\n",
      "HeatingQC        1460 non-null object\n",
      "CentralAir       1460 non-null object\n",
      "Electrical       1459 non-null object\n",
      "1stFlrSF         1460 non-null int64\n",
      "2ndFlrSF         1460 non-null int64\n",
      "LowQualFinSF     1460 non-null int64\n",
      "GrLivArea        1460 non-null int64\n",
      "BsmtFullBath     1460 non-null int64\n",
      "BsmtHalfBath     1460 non-null int64\n",
      "FullBath         1460 non-null int64\n",
      "HalfBath         1460 non-null int64\n",
      "BedroomAbvGr     1460 non-null int64\n",
      "KitchenAbvGr     1460 non-null int64\n",
      "KitchenQual      1460 non-null object\n",
      "TotRmsAbvGrd     1460 non-null int64\n",
      "Functional       1460 non-null object\n",
      "Fireplaces       1460 non-null int64\n",
      "GarageType       1379 non-null object\n",
      "GarageYrBlt      1379 non-null float64\n",
      "GarageFinish     1379 non-null object\n",
      "GarageCars       1460 non-null int64\n",
      "GarageArea       1460 non-null int64\n",
      "GarageQual       1379 non-null object\n",
      "GarageCond       1379 non-null object\n",
      "PavedDrive       1460 non-null object\n",
      "WoodDeckSF       1460 non-null int64\n",
      "OpenPorchSF      1460 non-null int64\n",
      "EnclosedPorch    1460 non-null int64\n",
      "3SsnPorch        1460 non-null int64\n",
      "ScreenPorch      1460 non-null int64\n",
      "PoolArea         1460 non-null int64\n",
      "MiscVal          1460 non-null int64\n",
      "MoSold           1460 non-null int64\n",
      "YrSold           1460 non-null int64\n",
      "SaleType         1460 non-null object\n",
      "SaleCondition    1460 non-null object\n",
      "SalePrice        1460 non-null int64\n",
      "dtypes: float64(3), int64(35), object(38)\n",
      "memory usage: 867.0+ KB\n"
     ]
    }
   ],
   "source": [
    "data.info()"
   ]
  },
  {
   "cell_type": "markdown",
   "metadata": {},
   "source": [
    "#Next we will get rid of any rows with null values and review the data set."
   ]
  },
  {
   "cell_type": "code",
   "execution_count": 18,
   "metadata": {},
   "outputs": [
    {
     "name": "stdout",
     "output_type": "stream",
     "text": [
      "<class 'pandas.core.frame.DataFrame'>\n",
      "Int64Index: 1094 entries, 0 to 1459\n",
      "Data columns (total 76 columns):\n",
      "Id               1094 non-null int64\n",
      "MSSubClass       1094 non-null int64\n",
      "MSZoning         1094 non-null object\n",
      "LotFrontage      1094 non-null float64\n",
      "LotArea          1094 non-null int64\n",
      "Street           1094 non-null object\n",
      "LotShape         1094 non-null object\n",
      "LandContour      1094 non-null object\n",
      "Utilities        1094 non-null object\n",
      "LotConfig        1094 non-null object\n",
      "LandSlope        1094 non-null object\n",
      "Neighborhood     1094 non-null object\n",
      "Condition1       1094 non-null object\n",
      "Condition2       1094 non-null object\n",
      "BldgType         1094 non-null object\n",
      "HouseStyle       1094 non-null object\n",
      "OverallQual      1094 non-null int64\n",
      "OverallCond      1094 non-null int64\n",
      "YearBuilt        1094 non-null int64\n",
      "YearRemodAdd     1094 non-null int64\n",
      "RoofStyle        1094 non-null object\n",
      "RoofMatl         1094 non-null object\n",
      "Exterior1st      1094 non-null object\n",
      "Exterior2nd      1094 non-null object\n",
      "MasVnrType       1094 non-null object\n",
      "MasVnrArea       1094 non-null float64\n",
      "ExterQual        1094 non-null object\n",
      "ExterCond        1094 non-null object\n",
      "Foundation       1094 non-null object\n",
      "BsmtQual         1094 non-null object\n",
      "BsmtCond         1094 non-null object\n",
      "BsmtExposure     1094 non-null object\n",
      "BsmtFinType1     1094 non-null object\n",
      "BsmtFinSF1       1094 non-null int64\n",
      "BsmtFinType2     1094 non-null object\n",
      "BsmtFinSF2       1094 non-null int64\n",
      "BsmtUnfSF        1094 non-null int64\n",
      "TotalBsmtSF      1094 non-null int64\n",
      "Heating          1094 non-null object\n",
      "HeatingQC        1094 non-null object\n",
      "CentralAir       1094 non-null object\n",
      "Electrical       1094 non-null object\n",
      "1stFlrSF         1094 non-null int64\n",
      "2ndFlrSF         1094 non-null int64\n",
      "LowQualFinSF     1094 non-null int64\n",
      "GrLivArea        1094 non-null int64\n",
      "BsmtFullBath     1094 non-null int64\n",
      "BsmtHalfBath     1094 non-null int64\n",
      "FullBath         1094 non-null int64\n",
      "HalfBath         1094 non-null int64\n",
      "BedroomAbvGr     1094 non-null int64\n",
      "KitchenAbvGr     1094 non-null int64\n",
      "KitchenQual      1094 non-null object\n",
      "TotRmsAbvGrd     1094 non-null int64\n",
      "Functional       1094 non-null object\n",
      "Fireplaces       1094 non-null int64\n",
      "GarageType       1094 non-null object\n",
      "GarageYrBlt      1094 non-null float64\n",
      "GarageFinish     1094 non-null object\n",
      "GarageCars       1094 non-null int64\n",
      "GarageArea       1094 non-null int64\n",
      "GarageQual       1094 non-null object\n",
      "GarageCond       1094 non-null object\n",
      "PavedDrive       1094 non-null object\n",
      "WoodDeckSF       1094 non-null int64\n",
      "OpenPorchSF      1094 non-null int64\n",
      "EnclosedPorch    1094 non-null int64\n",
      "3SsnPorch        1094 non-null int64\n",
      "ScreenPorch      1094 non-null int64\n",
      "PoolArea         1094 non-null int64\n",
      "MiscVal          1094 non-null int64\n",
      "MoSold           1094 non-null int64\n",
      "YrSold           1094 non-null int64\n",
      "SaleType         1094 non-null object\n",
      "SaleCondition    1094 non-null object\n",
      "SalePrice        1094 non-null int64\n",
      "dtypes: float64(3), int64(35), object(38)\n",
      "memory usage: 658.1+ KB\n"
     ]
    }
   ],
   "source": [
    "data.dropna(inplace=True)\n",
    "data.info()"
   ]
  },
  {
   "cell_type": "markdown",
   "metadata": {},
   "source": [
    "#Now that there are no null values in our data set, we can do some analysis.\n",
    "#First we will look a the distribution of the Sale Price."
   ]
  },
  {
   "cell_type": "code",
   "execution_count": 19,
   "metadata": {},
   "outputs": [
    {
     "data": {
      "image/png": "[encoded data removed]",
      "text/plain": [
       "<matplotlib.figure.Figure at 0x179996e7588>"
      ]
     },
     "metadata": {},
     "output_type": "display_data"
    }
   ],
   "source": [
    "sns.distplot(data.SalePrice);"
   ]
  },
  {
   "cell_type": "markdown",
   "metadata": {},
   "source": [
    "#This distribution isn't a normal distribution. We will try a Logarithmic distribution to see if it is a more Normal distribution."
   ]
  },
  {
   "cell_type": "code",
   "execution_count": 20,
   "metadata": {},
   "outputs": [
    {
     "data": {
      "image/png": "[encoded data removed]",
      "text/plain": [
       "<matplotlib.figure.Figure at 0x179998404e0>"
      ]
     },
     "metadata": {},
     "output_type": "display_data"
    }
   ],
   "source": [
    "sns.distplot(np.log(data.SalePrice));"
   ]
  },
  {
   "cell_type": "markdown",
   "metadata": {},
   "source": [
    "#Now we can create a new column based from the logarithm of the Sale price. Then we will remove the Sale Price column. This will be our dependant y variable."
   ]
  },
  {
   "cell_type": "code",
   "execution_count": 21,
   "metadata": {},
   "outputs": [],
   "source": [
    "data[\"LogOfPrice\"] = np.log(data.SalePrice)\n",
    "data.drop(['SalePrice'],axis=1,inplace=True)\n",
    "y = data.LogOfPrice"
   ]
  },
  {
   "cell_type": "markdown",
   "metadata": {},
   "source": [
    "#Here we will create a temporary data set for the independant variable X, without the logarthimic price. As that is the variable we want to predict. Also we will only use non-object variables to analyse."
   ]
  },
  {
   "cell_type": "code",
   "execution_count": 24,
   "metadata": {
    "collapsed": true
   },
   "outputs": [],
   "source": [
    "data_temp = data.select_dtypes(include=['int64','float64'])\n",
    "X = data_temp.drop(['LogOfPrice'],axis=1)"
   ]
  },
  {
   "cell_type": "markdown",
   "metadata": {},
   "source": [
    "#Next we will split up our data set into train and test data sets. This way we have a control to compare our predictions with."
   ]
  },
  {
   "cell_type": "code",
   "execution_count": 29,
   "metadata": {},
   "outputs": [],
   "source": [
    "X_train , X_test , y_train , y_test = train_test_split(X , y , test_size = .25 , random_state = 2)"
   ]
  },
  {
   "cell_type": "markdown",
   "metadata": {},
   "source": [
    "#Now we will do some machine learning using Linear regression."
   ]
  },
  {
   "cell_type": "code",
   "execution_count": 30,
   "metadata": {},
   "outputs": [
    {
     "data": {
      "text/plain": [
       "LinearRegression(copy_X=True, fit_intercept=True, n_jobs=1, normalize=False)"
      ]
     },
     "execution_count": 30,
     "metadata": {},
     "output_type": "execute_result"
    }
   ],
   "source": [
    "lr = LinearRegression()\n",
    "lr.fit(X_train , y_train)"
   ]
  },
  {
   "cell_type": "code",
   "execution_count": 31,
   "metadata": {},
   "outputs": [
    {
     "data": {
      "text/plain": [
       "0.84775504679180236"
      ]
     },
     "execution_count": 31,
     "metadata": {},
     "output_type": "execute_result"
    }
   ],
   "source": [
    "yr_hat = lr.predict(X_test)\n",
    "lr.score(X_test,y_test)"
   ]
  },
  {
   "cell_type": "markdown",
   "metadata": {},
   "source": [
    "#Performing cross validation to compare our score."
   ]
  },
  {
   "cell_type": "code",
   "execution_count": 32,
   "metadata": {},
   "outputs": [
    {
     "data": {
      "text/plain": [
       "array([ 0.88426462,  0.83605032,  0.86145344,  0.89201551,  0.6154792 ])"
      ]
     },
     "execution_count": 32,
     "metadata": {},
     "output_type": "execute_result"
    }
   ],
   "source": [
    "lr_cvs = cross_val_score(lr, X, y, cv=5 , scoring = 'r2')\n",
    "lr_cvs"
   ]
  },
  {
   "cell_type": "code",
   "execution_count": 33,
   "metadata": {},
   "outputs": [
    {
     "data": {
      "text/plain": [
       "0.81785261868671666"
      ]
     },
     "execution_count": 33,
     "metadata": {},
     "output_type": "execute_result"
    }
   ],
   "source": [
    "lr_cvs.mean()"
   ]
  },
  {
   "cell_type": "markdown",
   "metadata": {},
   "source": [
    "#Comparing our score of 0.847755 to the cross validation mean of 0.817853, means we might be over fitting a bit."
   ]
  },
  {
   "cell_type": "markdown",
   "metadata": {},
   "source": [
    "#Next we will do some machine learning using Ridge regression."
   ]
  },
  {
   "cell_type": "code",
   "execution_count": 34,
   "metadata": {},
   "outputs": [
    {
     "data": {
      "text/plain": [
       "Ridge(alpha=1, copy_X=True, fit_intercept=True, max_iter=None,\n",
       "   normalize=False, random_state=None, solver='auto', tol=0.001)"
      ]
     },
     "execution_count": 34,
     "metadata": {},
     "output_type": "execute_result"
    }
   ],
   "source": [
    "ridge = Ridge(alpha=1)\n",
    "ridge.fit(X_train,y_train)"
   ]
  },
  {
   "cell_type": "markdown",
   "metadata": {},
   "source": [
    "#Performing cross validation to compare our Linear regression value."
   ]
  },
  {
   "cell_type": "code",
   "execution_count": 35,
   "metadata": {},
   "outputs": [
    {
     "data": {
      "text/plain": [
       "0.81791151186360445"
      ]
     },
     "execution_count": 35,
     "metadata": {},
     "output_type": "execute_result"
    }
   ],
   "source": [
    "ridge_cvs = cross_val_score(ridge,X,y,cv = 5,scoring='r2')\n",
    "ridge_cvs.mean()"
   ]
  },
  {
   "cell_type": "markdown",
   "metadata": {},
   "source": [
    "#Our value of 0.8179115 from our Ridge regression is very close to 0.817853 from our Linear regression."
   ]
  },
  {
   "cell_type": "markdown",
   "metadata": {},
   "source": [
    "#Now we will peform cross validation using Random Forest regression."
   ]
  },
  {
   "cell_type": "code",
   "execution_count": 36,
   "metadata": {},
   "outputs": [
    {
     "data": {
      "text/plain": [
       "RandomForestRegressor(bootstrap=True, criterion='mse', max_depth=None,\n",
       "           max_features='auto', max_leaf_nodes=None,\n",
       "           min_impurity_decrease=0.0, min_impurity_split=None,\n",
       "           min_samples_leaf=1, min_samples_split=2,\n",
       "           min_weight_fraction_leaf=0.0, n_estimators=10, n_jobs=1,\n",
       "           oob_score=False, random_state=None, verbose=0, warm_start=False)"
      ]
     },
     "execution_count": 36,
     "metadata": {},
     "output_type": "execute_result"
    }
   ],
   "source": [
    "rfr = RandomForestRegressor()\n",
    "rfr.fit(X_train, y_train)"
   ]
  },
  {
   "cell_type": "code",
   "execution_count": 37,
   "metadata": {},
   "outputs": [
    {
     "data": {
      "text/plain": [
       "0.84234443188411345"
      ]
     },
     "execution_count": 37,
     "metadata": {},
     "output_type": "execute_result"
    }
   ],
   "source": [
    "rfr_cvs = cross_val_score(rfr,X,y,cv = 5,scoring='r2')\n",
    "rfr_cvs.mean()"
   ]
  },
  {
   "cell_type": "markdown",
   "metadata": {},
   "source": [
    "#The value of 0.842344 from our Rand Forest regression is very close the the Linear Regression score of 0.847755."
   ]
  },
  {
   "cell_type": "markdown",
   "metadata": {},
   "source": [
    "#Here we will analyse the important features to predicting the sale price."
   ]
  },
  {
   "cell_type": "code",
   "execution_count": 38,
   "metadata": {},
   "outputs": [
    {
     "data": {
      "text/plain": [
       "array([  9.16546925e-03,   1.57467335e-03,   7.88672315e-03,\n",
       "         1.53209209e-02,   6.08766842e-01,   1.47940759e-02,\n",
       "         2.60549763e-02,   1.72378800e-02,   6.34110346e-03,\n",
       "         1.69804625e-02,   2.85136199e-04,   4.24259564e-03,\n",
       "         3.55170993e-02,   2.52492552e-02,   7.31647813e-03,\n",
       "         7.16804674e-05,   1.10767092e-01,   1.16274725e-03,\n",
       "         4.72367225e-04,   1.04374738e-02,   2.83339086e-04,\n",
       "         1.23796473e-03,   8.63948899e-04,   3.95419288e-03,\n",
       "         3.87646000e-03,   7.11012639e-03,   2.32407748e-02,\n",
       "         1.68070670e-02,   4.03007084e-03,   4.70457365e-03,\n",
       "         4.01722369e-03,   4.08105461e-04,   1.30105072e-03,\n",
       "         0.00000000e+00,   6.65441641e-04,   5.22729544e-03,\n",
       "         2.62731251e-03])"
      ]
     },
     "execution_count": 38,
     "metadata": {},
     "output_type": "execute_result"
    }
   ],
   "source": [
    "rfr.feature_importances_"
   ]
  },
  {
   "cell_type": "code",
   "execution_count": 39,
   "metadata": {
    "collapsed": true
   },
   "outputs": [],
   "source": [
    "importance = rfr.feature_importances_\n",
    "feature_importances = zip(importance,X.columns)"
   ]
  },
  {
   "cell_type": "code",
   "execution_count": 40,
   "metadata": {},
   "outputs": [
    {
     "data": {
      "text/plain": [
       "[(0.60876684214438948, 'OverallQual'),\n",
       " (0.11076709201830262, 'GrLivArea'),\n",
       " (0.03551709925458417, 'TotalBsmtSF'),\n",
       " (0.026054976272311438, 'YearBuilt'),\n",
       " (0.025249255244689926, '1stFlrSF'),\n",
       " (0.023240774815858133, 'GarageCars'),\n",
       " (0.01723787999255421, 'YearRemodAdd'),\n",
       " (0.0169804625259482, 'BsmtFinSF1'),\n",
       " (0.016807067028079478, 'GarageArea'),\n",
       " (0.015320920884263617, 'LotArea'),\n",
       " (0.014794075934467438, 'OverallCond'),\n",
       " (0.010437473841436701, 'FullBath'),\n",
       " (0.0091654692538065928, 'Id'),\n",
       " (0.0078867231507207779, 'LotFrontage'),\n",
       " (0.0073164781271450484, '2ndFlrSF'),\n",
       " (0.0071101263856467979, 'GarageYrBlt'),\n",
       " (0.0063411034604729261, 'MasVnrArea'),\n",
       " (0.0052272954371936856, 'MoSold'),\n",
       " (0.0047045736482025421, 'OpenPorchSF'),\n",
       " (0.0042425956352814586, 'BsmtUnfSF'),\n",
       " (0.0040300708360180891, 'WoodDeckSF'),\n",
       " (0.0040172236906127097, 'EnclosedPorch'),\n",
       " (0.0039541928750995914, 'TotRmsAbvGrd'),\n",
       " (0.0038764600039255803, 'Fireplaces'),\n",
       " (0.0026273125095080336, 'YrSold'),\n",
       " (0.0015746733480661429, 'MSSubClass'),\n",
       " (0.0013010507159430312, 'ScreenPorch'),\n",
       " (0.0012379647328938034, 'BedroomAbvGr'),\n",
       " (0.001162747254581552, 'BsmtFullBath'),\n",
       " (0.00086394889853905687, 'KitchenAbvGr'),\n",
       " (0.00066544164132988038, 'MiscVal'),\n",
       " (0.00047236722512310566, 'BsmtHalfBath'),\n",
       " (0.00040810546099164419, '3SsnPorch'),\n",
       " (0.00028513619895007431, 'BsmtFinSF2'),\n",
       " (0.00028333908563335096, 'HalfBath'),\n",
       " (7.1680467429169852e-05, 'LowQualFinSF'),\n",
       " (0.0, 'PoolArea')]"
      ]
     },
     "execution_count": 40,
     "metadata": {},
     "output_type": "execute_result"
    }
   ],
   "source": [
    "sorted_feature_importances = sorted(feature_importances,reverse=True)\n",
    "sorted_feature_importances"
   ]
  },
  {
   "cell_type": "markdown",
   "metadata": {},
   "source": [
    "#We will focus on the top 12 important features for further analysis."
   ]
  },
  {
   "cell_type": "code",
   "execution_count": 41,
   "metadata": {
    "collapsed": true
   },
   "outputs": [],
   "source": [
    "top_predictors = sorted_feature_importances[0:12]\n",
    "values = [value for value, predictors in top_predictors]"
   ]
  },
  {
   "cell_type": "code",
   "execution_count": 42,
   "metadata": {},
   "outputs": [
    {
     "data": {
      "text/plain": [
       "['OverallQual',\n",
       " 'GrLivArea',\n",
       " 'TotalBsmtSF',\n",
       " 'YearBuilt',\n",
       " '1stFlrSF',\n",
       " 'GarageCars',\n",
       " 'YearRemodAdd',\n",
       " 'BsmtFinSF1',\n",
       " 'GarageArea',\n",
       " 'LotArea',\n",
       " 'OverallCond',\n",
       " 'FullBath']"
      ]
     },
     "execution_count": 42,
     "metadata": {},
     "output_type": "execute_result"
    }
   ],
   "source": [
    "predictors = [predictors for value, predictors in top_predictors]\n",
    "predictors"
   ]
  },
  {
   "cell_type": "code",
   "execution_count": 43,
   "metadata": {},
   "outputs": [
    {
     "data": {
      "image/png": "[encoded data removed]",
      "text/plain": [
       "<matplotlib.figure.Figure at 0x17998f3b208>"
      ]
     },
     "metadata": {},
     "output_type": "display_data"
    }
   ],
   "source": [
    "plt.figure(figsize=(15,10))\n",
    "plt.title(\"Feature Importances\")\n",
    "\n",
    "plt.bar(range(len(predictors)),values,color='c',align='center')\n",
    "\n",
    "plt.xticks(range(len(predictors)),predictors,rotation=90);"
   ]
  },
  {
   "cell_type": "markdown",
   "metadata": {},
   "source": [
    "#By far the most important feature to predict the sale price of a house is its overall quality. Which is the rating of the overall material and finish of the house.\n",
    "#Second most import feature is the above grade (ground) living area. With total square feet of basement area coming in third."
   ]
  }
 ],
 "metadata": {
  "kernelspec": {
   "display_name": "Python 3",
   "language": "python",
   "name": "python3"
  },
  "language_info": {
   "codemirror_mode": {
    "name": "ipython",
    "version": 3
   },
   "file_extension": ".py",
   "mimetype": "text/x-python",
   "name": "python",
   "nbconvert_exporter": "python",
   "pygments_lexer": "ipython3",
   "version": "3.6.2"
  }
 },
 "nbformat": 4,
 "nbformat_minor": 2
}
